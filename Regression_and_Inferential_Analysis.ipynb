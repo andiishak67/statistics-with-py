{
  "nbformat": 4,
  "nbformat_minor": 0,
  "metadata": {
    "colab": {
      "provenance": []
    },
    "kernelspec": {
      "name": "python3",
      "display_name": "Python 3"
    },
    "language_info": {
      "name": "python"
    }
  },
  "cells": [
    {
      "cell_type": "markdown",
      "source": [
        "**Case Study: Regression and Inferential Analysis**\n",
        "\n",
        "tugas ini meminta Anda untuk melakukan analisis regresi linear guna menentukan variabel mana yang paling berpengaruh terhadap jumlah kecelakaan lalu lintas. Berikut langkah-langkah yang dapat diikuti untuk menyelesaikan tugas ini:"
      ],
      "metadata": {
        "id": "VEx7-KXdkKyD"
      }
    },
    {
      "cell_type": "markdown",
      "source": [
        "**Langkah pertama : Mengimport Library Lalu Mengimport Data**\n",
        "\n",
        "Gunakan pustaka Python seperti pandas untuk memanipulasi data, matplotlib atau seaborn untuk visualisasi, dan sklearn untuk membangun model regresi linear."
      ],
      "metadata": {
        "id": "bWzFLRX8kalM"
      }
    },
    {
      "cell_type": "code",
      "execution_count": 1,
      "metadata": {
        "id": "QA3TvdjQfapm"
      },
      "outputs": [],
      "source": [
        "import pandas as pd\n",
        "import numpy as np\n",
        "import matplotlib.pyplot as plt\n",
        "import seaborn as sns\n",
        "from sklearn.linear_model import LinearRegression\n",
        "from sklearn.model_selection import train_test_split\n",
        "from sklearn.metrics import mean_squared_error, r2_score"
      ]
    },
    {
      "cell_type": "code",
      "source": [
        "df = {\n",
        "    \"Jumlah Kecelakaan Lalu Lintas (kasus)\": [107, 113, 117, 129, 137, 99, 112, 114, 126, 101, 116, 103],\n",
        "    \"Faktor Pengemudi (orang)\": [56, 63, 60, 61, 77, 54, 56, 56, 60, 65, 56, 59],\n",
        "    \"Faktor Jalan (kasus)\": [31, 23, 27, 33, 31, 20, 30, 27, 20, 17, 32, 29],\n",
        "    \"Faktor Kendaraan (kasus)\": [12, 15, 14, 9, 18, 11, 10, 11, 13, 9, 21, 14],\n",
        "    \"Pertumbuhan jumlah kendaraan bermotor (unit)\": [873, 402, 538, 432, 746, 393, 746, 799, 516, 493, 871, 904]\n",
        "}\n",
        "\n",
        "df = pd.DataFrame(df)"
      ],
      "metadata": {
        "id": "BDRKx9Nrfewa"
      },
      "execution_count": 2,
      "outputs": []
    },
    {
      "cell_type": "markdown",
      "source": [
        "**Mengeksplorasi Data**\n",
        "\n",
        "Lakukan analisis deskriptif dan visualisasi untuk memahami hubungan antara variabel independen dan dependen."
      ],
      "metadata": {
        "id": "rCy16CPiky5N"
      }
    },
    {
      "cell_type": "code",
      "source": [
        "print(df.describe())"
      ],
      "metadata": {
        "colab": {
          "base_uri": "https://localhost:8080/"
        },
        "id": "AgfJV4HifwHt",
        "outputId": "297832ca-2871-4eee-9dbd-a5d5fae66d3c"
      },
      "execution_count": 3,
      "outputs": [
        {
          "output_type": "stream",
          "name": "stdout",
          "text": [
            "       Jumlah Kecelakaan Lalu Lintas (kasus)  Faktor Pengemudi (orang)  \\\n",
            "count                              12.000000                 12.000000   \n",
            "mean                              114.500000                 60.250000   \n",
            "std                                11.587611                  6.210329   \n",
            "min                                99.000000                 54.000000   \n",
            "25%                               106.000000                 56.000000   \n",
            "50%                               113.500000                 59.500000   \n",
            "75%                               119.250000                 61.500000   \n",
            "max                               137.000000                 77.000000   \n",
            "\n",
            "       Faktor Jalan (kasus)  Faktor Kendaraan (kasus)  \\\n",
            "count             12.000000                 12.000000   \n",
            "mean              26.666667                 13.083333   \n",
            "std                5.382351                  3.629634   \n",
            "min               17.000000                  9.000000   \n",
            "25%               22.250000                 10.750000   \n",
            "50%               28.000000                 12.500000   \n",
            "75%               31.000000                 14.250000   \n",
            "max               33.000000                 21.000000   \n",
            "\n",
            "       Pertumbuhan jumlah kendaraan bermotor (unit)  \n",
            "count                                     12.000000  \n",
            "mean                                     642.750000  \n",
            "std                                      198.474695  \n",
            "min                                      393.000000  \n",
            "25%                                      477.750000  \n",
            "50%                                      642.000000  \n",
            "75%                                      817.000000  \n",
            "max                                      904.000000  \n"
          ]
        }
      ]
    },
    {
      "cell_type": "code",
      "source": [
        "plt.figure(figsize=(15, 8))\n",
        "sns.pairplot( data = df , x_vars=['Faktor Pengemudi (orang)','Faktor Jalan (kasus)','Faktor Kendaraan (kasus)','Pertumbuhan jumlah kendaraan bermotor (unit)'],\n",
        "                     y_vars=['Jumlah Kecelakaan Lalu Lintas (kasus)'], kind='reg')\n",
        "plt.show()"
      ],
      "metadata": {
        "colab": {
          "base_uri": "https://localhost:8080/",
          "height": 285
        },
        "id": "lhX0LsxmgLoi",
        "outputId": "cc6efb3a-24f4-4ab0-d592-00055d0a180c"
      },
      "execution_count": 4,
      "outputs": [
        {
          "output_type": "display_data",
          "data": {
            "text/plain": [
              "<Figure size 1500x800 with 0 Axes>"
            ]
          },
          "metadata": {}
        },
        {
          "output_type": "display_data",
          "data": {
            "text/plain": [
              "<Figure size 1000x250 with 4 Axes>"
            ],
            "image/png": "[encoded data removed]"
          },
          "metadata": {}
        }
      ]
    },
    {
      "cell_type": "markdown",
      "source": [
        "**Membangun Model Regresi Linear**\n",
        "\n",
        "Pilih variabel independen untuk model."
      ],
      "metadata": {
        "id": "RqtKHV8kljqN"
      }
    },
    {
      "cell_type": "code",
      "source": [
        "# Definisi X (independent variables) dan y (dependent variable)\n",
        "X = df.iloc[:, 1:]\n",
        "y = df.iloc[:, :1]\n",
        "\n",
        "# Regressor model\n",
        "regressor = LinearRegression()\n",
        "regressor.fit(X, y)\n",
        "\n",
        "# Regressor coefficients and intercept\n",
        "print(f'Coefficient: {regressor.coef_}')\n",
        "print(f'Intercept: {regressor.intercept_}')"
      ],
      "metadata": {
        "colab": {
          "base_uri": "https://localhost:8080/"
        },
        "id": "84AvYaHfhqAa",
        "outputId": "456dc6a7-cc5d-48de-8891-7d0e15972997"
      },
      "execution_count": 14,
      "outputs": [
        {
          "output_type": "stream",
          "name": "stdout",
          "text": [
            "Coefficient: [[ 0.90844505  1.34394216  0.50142411 -0.02459449]]\n",
            "Intercept: [33.17553598]\n"
          ]
        }
      ]
    },
    {
      "cell_type": "markdown",
      "source": [
        "Coefficient: [0.90844505, 1.34394216, 0.50142411, -0.02459449]\n",
        "Koefisien ini menunjukkan besarnya pengaruh masing-masing variabel independen terhadap variabel dependen (Jumlah Kecelakaan Lalu Lintas), dengan asumsi variabel lainnya tetap konstan.\n",
        "\n",
        "\n",
        "*   Faktor Pengemudi: 0.90844505 Untuk setiap peningkatan 1 unit dalam Faktor Pengemudi, jumlah kecelakaan diprediksi meningkat sebesar 0.91 kasus (asumsi variabel lain tetap konstan).\n",
        "\n",
        "\n",
        "*   Faktor Jalan: 1.34394216\n",
        "Faktor ini memiliki pengaruh terbesar. Peningkatan 1 kasus Faktor Jalan diprediksi meningkatkan jumlah kecelakaan sebesar 1.34 kasus.\n",
        "\n",
        "*   Faktor Kendaraan: 0.50142411\n",
        "Peningkatan 1 kasus Faktor Kendaraan diprediksi meningkatkan jumlah kecelakaan sebesar 0.50 kasus.\n",
        "\n",
        "*   Pertumbuhan Jumlah Kendaraan Bermotor: -0.02459449\n",
        "Faktor ini memiliki hubungan negatif, menunjukkan bahwa peningkatan 1 unit dalam jumlah kendaraan bermotor justru memprediksi penurunan kecil dalam jumlah kecelakaan (sekitar 0.025 kasus).\n",
        "\n",
        "Intercept: 33.17553598\n",
        "Jika semua variabel independen bernilai nol, jumlah kecelakaan yang diprediksi adalah 33.18 kasus."
      ],
      "metadata": {
        "id": "bOmplSU_Aeda"
      }
    },
    {
      "cell_type": "code",
      "source": [
        "#calculate R-squared of regression model\n",
        "\n",
        "r_squared = regressor.score(X, y)\n",
        "\n",
        "#view R-squared value\n",
        "print(r_squared)"
      ],
      "metadata": {
        "colab": {
          "base_uri": "https://localhost:8080/"
        },
        "id": "UCEcsfiLjEm3",
        "outputId": "e4a3f44f-c602-479b-9d7b-9cdeba098b46"
      },
      "execution_count": 8,
      "outputs": [
        {
          "output_type": "stream",
          "name": "stdout",
          "text": [
            "0.6210837387520458\n"
          ]
        }
      ]
    },
    {
      "cell_type": "markdown",
      "source": [
        "Nilai R-squared (R²) yang Anda dapatkan adalah 0.6211. Berikut interpretasinya:\n",
        "\n",
        "Apa Itu R-squared?\n",
        "\n",
        "R-squared adalah ukuran statistik yang menjelaskan proporsi variasi pada variabel dependen (Jumlah Kecelakaan Lalu Lintas) yang dapat dijelaskan oleh variabel independen dalam model regresi.\n",
        "\n",
        "Nilainya berkisar antara:\n",
        "\n",
        "\n",
        "*   0 : Tidak ada variasi yang dapat dijelaskan oleh model (model buruk).\n",
        "*   1 : Semua variasi pada variabel dependen dapat dijelaskan oleh model (model sempurna).\n",
        "\n",
        "Interpretasi R-squared adalah (0.6211)\n",
        "\n",
        "\n",
        "*   Model ini menjelaskan sekitar 62.11% variasi dalam jumlah kecelakaan lalu lintas berdasarkan variabel-variabel independen yang digunakan (Faktor Pengemudi, Faktor Jalan, Faktor Kendaraan, dan Pertumbuhan Jumlah Kendaraan Bermotor).\n",
        "*   Sisanya, yaitu sekitar 37.89%, variasi dalam jumlah kecelakaan disebabkan oleh faktor lain yang tidak dijelaskan oleh model.\n",
        "\n",
        "\n"
      ],
      "metadata": {
        "id": "zHF9LMBZB9yb"
      }
    },
    {
      "cell_type": "code",
      "source": [
        "y_pred = regressor.predict(X)"
      ],
      "metadata": {
        "id": "1oKqS3qd-h7S"
      },
      "execution_count": 9,
      "outputs": []
    },
    {
      "cell_type": "code",
      "source": [
        "from sklearn.metrics import root_mean_squared_error\n",
        "\n",
        "rmse = root_mean_squared_error(y, y_pred)\n",
        "rmse"
      ],
      "metadata": {
        "colab": {
          "base_uri": "https://localhost:8080/"
        },
        "id": "syb6nJUO-p27",
        "outputId": "3d3948fa-f300-42ba-f69b-6d3212f895c5"
      },
      "execution_count": 13,
      "outputs": [
        {
          "output_type": "execute_result",
          "data": {
            "text/plain": [
              "6.8292222462446155"
            ]
          },
          "metadata": {},
          "execution_count": 13
        }
      ]
    },
    {
      "cell_type": "markdown",
      "source": [
        "Nilai Root Mean Squared Error (RMSE) yang Anda peroleh adalah 6.83. Berikut penjelasan dan interpretasinya:\n",
        "\n",
        "**Apa Itu RMSE?**\n",
        "\n",
        "RMSE adalah ukuran seberapa jauh prediksi model regresi Anda dari nilai aktual (Jumlah Kecelakaan Lalu Lintas). RMSE mengukur rata-rata deviasi (kesalahan) antara prediksi dan data sebenarnya, dalam satuan yang sama dengan variabel dependen.\n",
        "\n",
        "**Interpretasi RMSE**\n",
        "\n",
        "\n",
        "\n",
        "*   Nilai RMSE = 6.83: Model Anda rata-rata memiliki kesalahan prediksi sebesar 6.83 kasus kecelakaan lalu lintas.\n",
        "*   Semakin rendah nilai RMSE, semakin baik model regresi dalam memprediksi nilai aktual.\n",
        "\n"
      ],
      "metadata": {
        "id": "D2TqlZGHD1r7"
      }
    },
    {
      "cell_type": "markdown",
      "source": [
        "**Pengecekan Pemenuhan Syarat**"
      ],
      "metadata": {
        "id": "T75O2YumIOf-"
      }
    },
    {
      "cell_type": "code",
      "source": [
        "residuals = y.values-y_pred"
      ],
      "metadata": {
        "id": "DZg_DE3HDxmO"
      },
      "execution_count": 15,
      "outputs": []
    },
    {
      "cell_type": "code",
      "source": [
        "import statsmodels.stats.api as sms\n",
        "from statsmodels.compat import lzip\n",
        "name = ['F statistic', 'p-value']\n",
        "test = sms.het_goldfeldquandt(residuals, X)\n",
        "lzip(name, test)"
      ],
      "metadata": {
        "colab": {
          "base_uri": "https://localhost:8080/"
        },
        "id": "wlH9mYB0EQ5e",
        "outputId": "f7a5e4a5-a1a9-44ee-d2a7-36aea20f99ac"
      },
      "execution_count": 16,
      "outputs": [
        {
          "output_type": "execute_result",
          "data": {
            "text/plain": [
              "[('F statistic', 6.635204724699446), ('p-value', 0.13097225759579934)]"
            ]
          },
          "metadata": {},
          "execution_count": 16
        }
      ]
    },
    {
      "cell_type": "markdown",
      "source": [
        "**Hasil Uji Anda**\n",
        "\n",
        "\n",
        "\n",
        "1.   **F-statistic**: 6.6352\n",
        "Nilai statistik uji menunjukkan perbandingan antara varians residual di dua subset data (seperti yang ditentukan oleh metode Goldfeld-Quandt).\n",
        "2.   **p-value**: 0.13097\n",
        "Ini adalah probabilitas yang menunjukkan seberapa besar kemungkinan bahwa heteroskedastisitas terjadi secara kebetulan. Biasanya, tingkat signifikansi (\n",
        "𝛼\n",
        "α) yang digunakan adalah 0.05.\n",
        "\n",
        "**Kesimpulan**\n",
        "\n",
        "Karena p-value 0.13 > 0.05, Anda tidak menolak hipotesis nol, yang berarti tidak ada indikasi kuat adanya heteroskedastisitas dalam model regresi Anda. Varians residual dianggap konstan dan model regresi Anda tidak mengalami masalah heteroskedastisitas.\n",
        "\n",
        "Sederhananya P-value yang besar (lebih dari 0.05) menunjukkan bahwa model Anda tidak menunjukkan masalah dengan varians residual yang tidak konstan. Dengan kata lain, model regresi Anda aman dari masalah heteroskedastisitas berdasarkan uji ini.\n"
      ],
      "metadata": {
        "id": "htQZ7P98GFgt"
      }
    },
    {
      "cell_type": "code",
      "source": [
        "import statsmodels.api as sm\n",
        "hasil = sm.stats.acorr_ljungbox(residuals, lags=[5], return_df=True)\n",
        "\n",
        "print(hasil)"
      ],
      "metadata": {
        "colab": {
          "base_uri": "https://localhost:8080/"
        },
        "id": "ZmstNyjNHf72",
        "outputId": "2f3776e0-3fd4-4374-f229-1b273b61133e"
      },
      "execution_count": 18,
      "outputs": [
        {
          "output_type": "stream",
          "name": "stdout",
          "text": [
            "    lb_stat  lb_pvalue\n",
            "5  4.041584   0.543445\n"
          ]
        }
      ]
    },
    {
      "cell_type": "markdown",
      "source": [
        "Penjelasan Hasil Uji Anda\n",
        "Hasil uji Anda adalah:\n",
        "\n",
        "\n",
        "\n",
        "*   lb_stat (4.041584): Ini adalah nilai statistik uji Ljung-Box, yang mengukur seberapa besar kemungkinan ada autokorelasi dalam residual hingga lag ke-5.\n",
        "*   lb_pvalue (0.543445): Ini adalah peluang (probabilitas) bahwa residual tidak saling berkorelasi. Nilai ini yang kita gunakan untuk mengambil kesimpulan.\n",
        "\n",
        "p-value = 0.543445 (lebih besar dari 0.05).\n",
        "Ini berarti tidak ada bukti bahwa residual memiliki autokorelasi hingga lag ke-5. Residual dianggap independen.\n",
        "\n",
        "\n",
        "\n"
      ],
      "metadata": {
        "id": "v72Xn3SUJhbM"
      }
    }
  ]
}